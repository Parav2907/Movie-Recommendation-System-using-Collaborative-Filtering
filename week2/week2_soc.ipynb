{
 "cells": [
  {
   "cell_type": "code",
   "execution_count": null,
   "id": "24c043a9-9146-4f58-8023-b1766e215603",
   "metadata": {},
   "outputs": [],
   "source": [
    "import pandas as pd"
   ]
  },
  {
   "cell_type": "code",
   "execution_count": null,
   "id": "c7629549-0b70-4529-b17f-24f3f6355922",
   "metadata": {},
   "outputs": [],
   "source": [
    "links=pd.read_csv('links.csv')\n",
    "df2=pd.read_csv('credits.csv')\n",
    "df3= pd.read_csv('movies_metadata.csv', low_memory=False)\n",
    "df4=pd.read_csv('keywords.csv')"
   ]
  },
  {
   "cell_type": "code",
   "execution_count": null,
   "id": "1cdf6c78-76c4-4285-9de9-0a5cb9c01865",
   "metadata": {},
   "outputs": [],
   "source": [
    "df2 = df2.copy()\n",
    "df2['id'] = pd.to_numeric(df2['id'], errors='coerce')\n",
    "df2 = df2.dropna(subset=['id'])\n",
    "df2.loc[:, 'id'] = df2['id'].astype(int)\n",
    "df3 = df3.copy()\n",
    "df3['id'] = pd.to_numeric(df3['id'], errors='coerce').astype('int64')\n",
    "df3 = df3.dropna(subset=['id'])\n",
    "df3.loc[:, 'id'] = df3['id'].astype(int)\n",
    "df4 = df4.copy()\n",
    "df4['id'] = pd.to_numeric(df4['id'], errors='coerce')\n",
    "df4 = df4.dropna(subset=['id'])\n",
    "df4.loc[:, 'id'] = df4['id'].astype(int)"
   ]
  },
  {
   "cell_type": "code",
   "execution_count": null,
   "id": "26e857d7-ca82-4ccb-baa8-9dac09a3d7a1",
   "metadata": {},
   "outputs": [
    {
     "data": {
      "text/plain": [
       "dtype('int64')"
      ]
     },
     "execution_count": 19,
     "metadata": {},
     "output_type": "execute_result"
    }
   ],
   "source": [
    "df2['id'].dtype"
   ]
  },
  {
   "cell_type": "code",
   "execution_count": null,
   "id": "dd91e13f-cd05-42de-9047-144768b23972",
   "metadata": {},
   "outputs": [],
   "source": [
    "ms1=df3.merge(df2,on='id')\n",
    "master_dataset=ms1.merge(df4,on='id')\n",
    "links = links[links['tmdbId'].notnull()]['tmdbId'].astype('int')\n",
    "master_dataset = master_dataset[master_dataset['id'].isin(links)]"
   ]
  },
  {
   "cell_type": "code",
   "execution_count": null,
   "id": "8fa0c777-41c2-4212-a767-12712b94786a",
   "metadata": {},
   "outputs": [
    {
     "data": {
      "text/plain": [
       "(46628, 27)"
      ]
     },
     "execution_count": 17,
     "metadata": {},
     "output_type": "execute_result"
    }
   ],
   "source": [
    "master_dataset.shape"
   ]
  },
  {
   "cell_type": "code",
   "execution_count": null,
   "id": "b22469ec-70f4-47c1-899c-5075b66cf150",
   "metadata": {},
   "outputs": [
    {
     "data": {
      "text/plain": [
       "Index(['adult', 'belongs_to_collection', 'budget', 'genres', 'homepage', 'id',\n",
       "       'imdb_id', 'original_language', 'original_title', 'overview',\n",
       "       'popularity', 'poster_path', 'production_companies',\n",
       "       'production_countries', 'release_date', 'revenue', 'runtime',\n",
       "       'spoken_languages', 'status', 'tagline', 'title', 'video',\n",
       "       'vote_average', 'vote_count', 'cast', 'crew', 'keywords'],\n",
       "      dtype='object')"
      ]
     },
     "execution_count": 18,
     "metadata": {},
     "output_type": "execute_result"
    }
   ],
   "source": [
    "master_dataset.columns"
   ]
  },
  {
   "cell_type": "code",
   "execution_count": null,
   "id": "3afc53de-6e14-444e-8ee5-5949ef63ad59",
   "metadata": {},
   "outputs": [],
   "source": []
  }
 ],
 "metadata": {
  "kernelspec": {
   "display_name": "Python 3 (ipykernel)",
   "language": "python",
   "name": "python3"
  },
  "language_info": {
   "codemirror_mode": {
    "name": "ipython",
    "version": 3
   },
   "file_extension": ".py",
   "mimetype": "text/x-python",
   "name": "python",
   "nbconvert_exporter": "python",
   "pygments_lexer": "ipython3",
   "version": "3.13.1"
  }
 },
 "nbformat": 4,
 "nbformat_minor": 5
}
